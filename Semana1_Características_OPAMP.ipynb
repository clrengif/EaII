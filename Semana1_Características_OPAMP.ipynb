{
 "cells": [
  {
   "cell_type": "markdown",
   "id": "1ef9de7c-2bea-4f3c-ac79-fa06940696db",
   "metadata": {},
   "source": [
    "# Electrónica Análoga II\n",
    "## Semana 1\n",
    "### *Carlos Lino Rengifo Renteria*"
   ]
  },
  {
   "cell_type": "markdown",
   "id": "af8ac7c7-997a-4239-840d-db771df7ba67",
   "metadata": {},
   "source": [
    "## Introdución"
   ]
  },
  {
   "cell_type": "markdown",
   "id": "5e456233-9b3a-450f-8fe7-027050947552",
   "metadata": {},
   "source": [
    "Introducción Histórica del Amplificador Operacional\n",
    "El amplificador operacional (op-amp) es un dispositivo electrónico que se ha convertido en uno de los componentes fundamentales en la ingeniería electrónica. Su origen se remonta a la década de 1960, cuando se introdujo como un componente en la electrónica analógica para realizar operaciones matemáticas como la suma, resta, integración y diferenciación en circuitos analógicos. La invención del amplificador operacional se atribuye a Karl D. Swartzel Jr., quien en 1968 diseñó el primer amplificador operacional integrado, el μA741, para Fairchild Semiconductor. Este componente marcó un hito en la historia de la electrónica, permitiendo la miniaturización y mejora en el rendimiento de los sistemas analógicos (Sedra & Smith, 2014).\n",
    "\n",
    "Definición de un Amplificador Operacional\n",
    "Un amplificador operacional es un dispositivo electrónico con alta ganancia, diseñado para amplificar la diferencia de voltaje entre dos entradas, mientras rechaza cualquier voltaje común a ambas entradas. Este dispositivo cuenta típicamente con una entrada inversora (-), una entrada no inversora (+), y una salida. La alta ganancia de un op-amp permite que pequeños cambios en el voltaje de entrada resulten en grandes variaciones en la salida, lo que lo hace ideal para aplicaciones en filtrado, amplificación, y operaciones matemáticas en señales analógicas. En su configuración ideal, el amplificador operacional se asume con una ganancia infinita, impedancia de entrada infinita y impedancia de salida cero, aunque en la práctica estos valores son finitos (Horowitz & Hill, 2015)."
   ]
  },
  {
   "cell_type": "code",
   "execution_count": 2,
   "id": "1ec4753e-8c03-4176-baf8-3e9ba5ca8cef",
   "metadata": {},
   "outputs": [
    {
     "data": {
      "text/html": [
       "<iframe width=\"560\" height=\"315\" src=\"https://www.youtube.com/embed/0Fg1L_m4bNc?si=k3W9MPR-x2VgEKbZ\" title=\"YouTube video player\" frameborder=\"0\" allow=\"accelerometer; autoplay; clipboard-write; encrypted-media; gyroscope; picture-in-picture; web-share\" referrerpolicy=\"strict-origin-when-cross-origin\" allowfullscreen></iframe>\n"
      ],
      "text/plain": [
       "<IPython.core.display.HTML object>"
      ]
     },
     "metadata": {},
     "output_type": "display_data"
    }
   ],
   "source": [
    "%%html\n",
    "<iframe width=\"560\" height=\"315\" src=\"https://www.youtube.com/embed/0Fg1L_m4bNc?si=k3W9MPR-x2VgEKbZ\" title=\"YouTube video player\" frameborder=\"0\" allow=\"accelerometer; autoplay; clipboard-write; encrypted-media; gyroscope; picture-in-picture; web-share\" referrerpolicy=\"strict-origin-when-cross-origin\" allowfullscreen></iframe>"
   ]
  },
  {
   "cell_type": "markdown",
   "id": "a2463741-a73d-42b9-b598-0f7cf50fd18e",
   "metadata": {},
   "source": [
    "## Símbolo "
   ]
  },
  {
   "cell_type": "markdown",
   "id": "d0bf2318-59a0-4438-b2a7-ce6e86c6dcc9",
   "metadata": {},
   "source": [
    "<img src=\"https://upload.wikimedia.org/wikipedia/commons/thumb/9/97/Op-amp_symbol.svg/2560px-Op-amp_symbol.svg.png\" alt=\"Diagrama de un amplificador operacional\" width=\"400\"/>\n",
    "De Omegatron - Trabajo propio, CC BY-SA 3.0, https://commons.wikimedia.org/w/index.php?curid=983276\n",
    "\n",
    "## Modelo \n",
    "<img src=\"https://upload.wikimedia.org/wikipedia/commons/thumb/0/0d/Op-Amp_Internal.svg/1920px-Op-Amp_Internal.svg.png\" alt=\"Diagrama de un amplificador operacional\" width=\"400\"/>\n",
    "\n",
    "Inductiveload, Public domain, via Wikimedia Commons\n"
   ]
  },
  {
   "cell_type": "markdown",
   "id": "8c9bc8fc-65d3-4d3a-a75e-484ee152e010",
   "metadata": {},
   "source": [
    "## El amplificador operacional como comparador"
   ]
  },
  {
   "cell_type": "code",
   "execution_count": 7,
   "id": "1552bfe6-66f4-4700-9497-a8b6f384ee96",
   "metadata": {},
   "outputs": [
    {
     "data": {
      "text/html": [
       "<iframe width=\"560\" height=\"315\" src=\"https://www.youtube.com/embed/hc8LsHxsdl4?si=lgBUP5XiY3uKj4NY\" title=\"YouTube video player\" frameborder=\"0\" allow=\"accelerometer; autoplay; clipboard-write; encrypted-media; gyroscope; picture-in-picture; web-share\" referrerpolicy=\"strict-origin-when-cross-origin\" allowfullscreen></iframe>\n"
      ],
      "text/plain": [
       "<IPython.core.display.HTML object>"
      ]
     },
     "metadata": {},
     "output_type": "display_data"
    }
   ],
   "source": [
    "%%html\n",
    "<iframe width=\"560\" height=\"315\" src=\"https://www.youtube.com/embed/hc8LsHxsdl4?si=lgBUP5XiY3uKj4NY\" title=\"YouTube video player\" frameborder=\"0\" allow=\"accelerometer; autoplay; clipboard-write; encrypted-media; gyroscope; picture-in-picture; web-share\" referrerpolicy=\"strict-origin-when-cross-origin\" allowfullscreen></iframe>"
   ]
  },
  {
   "cell_type": "markdown",
   "id": "1f1a10d3-de04-4718-8258-6aae811d512b",
   "metadata": {},
   "source": [
    "## Profundizando"
   ]
  },
  {
   "cell_type": "code",
   "execution_count": 10,
   "id": "77fb26af-9655-4308-9117-9a64ef576579",
   "metadata": {},
   "outputs": [
    {
     "data": {
      "text/html": [
       "<iframe src=\"https://acrobat.adobe.com/id/urn:aaid:sc:va6c2:1f2db809-eb9c-4ce5-a3ed-015652371cc9\" width=\"100%\" height=\"600px\"></iframe>\n",
       "\n"
      ],
      "text/plain": [
       "<IPython.core.display.HTML object>"
      ]
     },
     "metadata": {},
     "output_type": "display_data"
    }
   ],
   "source": [
    "%%html\n",
    "<iframe src=\"https://acrobat.adobe.com/id/urn:aaid:sc:va6c2:1f2db809-eb9c-4ce5-a3ed-015652371cc9\" width=\"100%\" height=\"600px\"></iframe>\n",
    "\n"
   ]
  },
  {
   "cell_type": "code",
   "execution_count": 12,
   "id": "9c8282d2-8d66-45ae-981c-997d491e6cd3",
   "metadata": {},
   "outputs": [
    {
     "data": {
      "text/html": [
       "<iframe src=\"https://acrobat.adobe.com/id/urn:aaid:sc:VA6C2:4470fe14-b484-4855-98c9-67db32680e27\" width=\"100%\" height=\"600px\"></iframe>\n"
      ],
      "text/plain": [
       "<IPython.core.display.HTML object>"
      ]
     },
     "metadata": {},
     "output_type": "display_data"
    }
   ],
   "source": [
    "%%html\n",
    "<iframe src=\"https://acrobat.adobe.com/id/urn:aaid:sc:VA6C2:4470fe14-b484-4855-98c9-67db32680e27\" width=\"100%\" height=\"600px\"></iframe>\n"
   ]
  },
  {
   "cell_type": "code",
   "execution_count": null,
   "id": "237fddd0-4457-485d-a93b-6cbe7b7aa124",
   "metadata": {},
   "outputs": [],
   "source": []
  }
 ],
 "metadata": {
  "kernelspec": {
   "display_name": "Python 3 (ipykernel)",
   "language": "python",
   "name": "python3"
  },
  "language_info": {
   "codemirror_mode": {
    "name": "ipython",
    "version": 3
   },
   "file_extension": ".py",
   "mimetype": "text/x-python",
   "name": "python",
   "nbconvert_exporter": "python",
   "pygments_lexer": "ipython3",
   "version": "3.12.4"
  }
 },
 "nbformat": 4,
 "nbformat_minor": 5
}
